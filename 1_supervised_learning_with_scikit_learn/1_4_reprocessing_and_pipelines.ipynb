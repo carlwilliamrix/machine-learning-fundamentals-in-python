{
 "cells": [
  {
   "cell_type": "code",
   "id": "initial_id",
   "metadata": {
    "collapsed": true,
    "ExecuteTime": {
     "end_time": "2024-11-26T16:04:28.814459Z",
     "start_time": "2024-11-26T16:04:28.666205Z"
    }
   },
   "source": [
    "import numpy as np\n",
    "import pandas as pd\n",
    "import matplotlib.pyplot as plt\n",
    "from sklearn.linear_model import Ridge, LogisticRegression, LinearRegression\n",
    "from sklearn.neighbors import KNeighborsClassifier\n",
    "from sklearn.metrics import classification_report, confusion_matrix\n",
    "from sklearn.model_selection import train_test_split, KFold, cross_validate, GridSearchCV\n",
    "from sklearn.tree import DecisionTreeClassifier"
   ],
   "outputs": [],
   "execution_count": 54
  },
  {
   "metadata": {},
   "cell_type": "markdown",
   "source": [
    "## scikit-learn requirements\n",
    "- Numeric data\n",
    "- No missing values\n",
    "- With real-world data\n",
    "    - rarely the case\n",
    "    - often there is a need to reprocess data first\n",
    "\n",
    "### Dealing with categorical features\n",
    "- scikit-learn will not accept categorical features by default\n",
    "- Need to convert categorical features into numeric values\n",
    "- Convert to binary features called dummy variables\n",
    "    - 0: Observation was not that category\n",
    "    - 1: Observation was that category\n",
    "\n",
    "#### Creating dummy variables\n",
    "Being able to include categorical features in the model building process can enhance performance as they may add information that contributes to prediction accuracy."
   ],
   "id": "8520b3be731d8482"
  },
  {
   "metadata": {
    "ExecuteTime": {
     "end_time": "2024-11-26T14:11:06.449736Z",
     "start_time": "2024-11-26T14:11:06.429864Z"
    }
   },
   "cell_type": "code",
   "source": [
    "music = pd.read_csv('../resources/music_clean.csv')\n",
    "#music_df.head()\n",
    "# create the categories (only 1 in category, in training it has various categorical values)\n",
    "\n",
    "music_df = music.drop(columns=['Unnamed: 0'])\n",
    "\n",
    "categories = ['Jazz', 'Rap', 'Electronic', 'Rock', 'Classical', 'Blues', 'Anime', 'Country', 'Alternative', 'Hip-Hop']\n",
    "\n",
    "music_df['genre'] = np.random.choice(categories, size=len(music_df))\n",
    "print(music_df.head())\n",
    "print(music_df.dtypes)"
   ],
   "id": "6be5ecdd323b217",
   "outputs": [
    {
     "name": "stdout",
     "output_type": "stream",
     "text": [
      "   popularity  acousticness  danceability  duration_ms  energy  \\\n",
      "0        60.0      0.896000         0.726     214547.0   0.177   \n",
      "1        63.0      0.003840         0.635     190448.0   0.908   \n",
      "2        59.0      0.000075         0.352     456320.0   0.956   \n",
      "3        54.0      0.945000         0.488     352280.0   0.326   \n",
      "4        55.0      0.245000         0.667     273693.0   0.647   \n",
      "\n",
      "   instrumentalness  liveness  loudness  speechiness    tempo  valence  \\\n",
      "0          0.000002    0.1160   -14.824       0.0353   92.934    0.618   \n",
      "1          0.083400    0.2390    -4.795       0.0563  110.012    0.637   \n",
      "2          0.020300    0.1250    -3.634       0.1490  122.897    0.228   \n",
      "3          0.015700    0.1190   -12.020       0.0328  106.063    0.323   \n",
      "4          0.000297    0.0633    -7.787       0.0487  143.995    0.300   \n",
      "\n",
      "     genre  \n",
      "0     Rock  \n",
      "1  Country  \n",
      "2  Country  \n",
      "3  Hip-Hop  \n",
      "4    Anime  \n",
      "popularity          float64\n",
      "acousticness        float64\n",
      "danceability        float64\n",
      "duration_ms         float64\n",
      "energy              float64\n",
      "instrumentalness    float64\n",
      "liveness            float64\n",
      "loudness            float64\n",
      "speechiness         float64\n",
      "tempo               float64\n",
      "valence             float64\n",
      "genre                object\n",
      "dtype: object\n"
     ]
    }
   ],
   "execution_count": 8
  },
  {
   "metadata": {
    "ExecuteTime": {
     "end_time": "2024-11-26T14:11:13.826343Z",
     "start_time": "2024-11-26T14:11:13.816161Z"
    }
   },
   "cell_type": "code",
   "source": [
    "# Create music_dummies\n",
    "music_dummies = pd.get_dummies(music_df, drop_first=True, dtype=int)\n",
    "\n",
    "# Print the new DataFrame's shape\n",
    "print(\"Shape of music_dummies: {}\".format(music_dummies.shape))\n",
    "#print(music_df.dtypes)\n",
    "print(music_dummies.head())"
   ],
   "id": "983fe12e96ba2436",
   "outputs": [
    {
     "name": "stdout",
     "output_type": "stream",
     "text": [
      "Shape of music_dummies: (1000, 20)\n",
      "   popularity  acousticness  danceability  duration_ms  energy  \\\n",
      "0        60.0      0.896000         0.726     214547.0   0.177   \n",
      "1        63.0      0.003840         0.635     190448.0   0.908   \n",
      "2        59.0      0.000075         0.352     456320.0   0.956   \n",
      "3        54.0      0.945000         0.488     352280.0   0.326   \n",
      "4        55.0      0.245000         0.667     273693.0   0.647   \n",
      "\n",
      "   instrumentalness  liveness  loudness  speechiness    tempo  valence  \\\n",
      "0          0.000002    0.1160   -14.824       0.0353   92.934    0.618   \n",
      "1          0.083400    0.2390    -4.795       0.0563  110.012    0.637   \n",
      "2          0.020300    0.1250    -3.634       0.1490  122.897    0.228   \n",
      "3          0.015700    0.1190   -12.020       0.0328  106.063    0.323   \n",
      "4          0.000297    0.0633    -7.787       0.0487  143.995    0.300   \n",
      "\n",
      "   genre_Anime  genre_Blues  genre_Classical  genre_Country  genre_Electronic  \\\n",
      "0            0            0                0              0                 0   \n",
      "1            0            0                0              1                 0   \n",
      "2            0            0                0              1                 0   \n",
      "3            0            0                0              0                 0   \n",
      "4            1            0                0              0                 0   \n",
      "\n",
      "   genre_Hip-Hop  genre_Jazz  genre_Rap  genre_Rock  \n",
      "0              0           0          0           1  \n",
      "1              0           0          0           0  \n",
      "2              0           0          0           0  \n",
      "3              1           0          0           0  \n",
      "4              0           0          0           0  \n"
     ]
    }
   ],
   "execution_count": 9
  },
  {
   "metadata": {
    "ExecuteTime": {
     "end_time": "2024-11-26T14:25:30.088843Z",
     "start_time": "2024-11-26T14:25:30.086451Z"
    }
   },
   "cell_type": "code",
   "source": [
    "from sklearn.linear_model import Ridge\n",
    "from sklearn.model_selection import cross_val_score\n",
    "kf = KFold(n_splits=5, random_state=42, shuffle=True)"
   ],
   "id": "60a977d47a6b9092",
   "outputs": [],
   "execution_count": 31
  },
  {
   "metadata": {
    "ExecuteTime": {
     "end_time": "2024-11-26T14:27:56.194766Z",
     "start_time": "2024-11-26T14:27:56.170356Z"
    }
   },
   "cell_type": "code",
   "source": [
    "# Create X, containing all features in music_dummies, and y, consisting of the \"popularity\" column, respectively.\n",
    "X = music_dummies.drop(columns=['popularity'])\n",
    "y = music_df['popularity']\n",
    "\n",
    "# Instantiate a ridge regression model, setting alpha equal to 0.2.\n",
    "ridge = Ridge(alpha=0.2)\n",
    "\n",
    "# Perform cross-validation on X and y using the ridge model, setting cv equal to kf, and using negative mean squared error as the scoring metric.\n",
    "scores = cross_val_score(ridge, X, y, cv=kf, scoring=\"neg_mean_squared_error\")\n",
    "\n",
    "# Print the RMSE values by converting negative scores to positive and taking the square root.\n",
    "rmse = np.sqrt(-scores)\n",
    "print(\"Average RMSE: {}\".format(np.mean(rmse)))\n",
    "print(\"Standard Deviation of the target array: {}\".format(np.std(y)))\n",
    "\n",
    "# An average RMSE of approximately 8.24 is lower than the standard deviation of the target variable (song popularity), suggesting the model is reasonably accurate. (note that this is the result from the learning that does not reflect this result...possibly due to changes in data)"
   ],
   "id": "b1b4186b95932a2a",
   "outputs": [
    {
     "name": "stdout",
     "output_type": "stream",
     "text": [
      "Average RMSE: 12.576532994417194\n",
      "Standard Deviation of the target array: 14.02156909907019\n"
     ]
    }
   ],
   "execution_count": 34
  },
  {
   "metadata": {},
   "cell_type": "markdown",
   "source": [
    "## Missing data\n",
    "- No value for a feature in a particular row\n",
    "- This can occur because:\n",
    "    - there may have been no observation\n",
    "    - the data might be corrupt\n",
    "\n"
   ],
   "id": "e5bfa0fc459decea"
  },
  {
   "metadata": {
    "ExecuteTime": {
     "end_time": "2024-11-26T14:32:08.245691Z",
     "start_time": "2024-11-26T14:32:08.193588Z"
    }
   },
   "cell_type": "code",
   "source": [
    "# Cannot reproduce learning here as they use a non-cleaned database\n",
    "print(music_df.isna().sum().sort_values())\n",
    "\n",
    "# Drop missing data\n",
    "music_df = music_df.dropna(subset=['popularity']) # etc"
   ],
   "id": "ada2551fa8473df9",
   "outputs": [
    {
     "name": "stdout",
     "output_type": "stream",
     "text": [
      "popularity          0\n",
      "acousticness        0\n",
      "danceability        0\n",
      "duration_ms         0\n",
      "energy              0\n",
      "instrumentalness    0\n",
      "liveness            0\n",
      "loudness            0\n",
      "speechiness         0\n",
      "tempo               0\n",
      "valence             0\n",
      "genre               0\n",
      "dtype: int64\n"
     ]
    }
   ],
   "execution_count": 35
  },
  {
   "metadata": {},
   "cell_type": "markdown",
   "source": [
    "### Imputing values\n",
    "- Imputation - use subject-matter expertise to replace missing data with educated guesses\n",
    "- Common to use the mean\n",
    "- Can also use the median or another value\n",
    "- For categorical values, one can typically use the most frequent value - the mode\n",
    "- **must split data first, to avoid data leakage**\n",
    "- Imputers are also known as transformers\n"
   ],
   "id": "c36414b8fb63b876"
  },
  {
   "metadata": {
    "ExecuteTime": {
     "end_time": "2024-11-26T14:41:34.497736Z",
     "start_time": "2024-11-26T14:41:34.481101Z"
    }
   },
   "cell_type": "code",
   "source": [
    "# Print missing values for each column\n",
    "print(music_df.isna().sum().sort_values())\n",
    "# Remove values where less than 5% are missing\n",
    "music_df = music_df.dropna(subset=['genre', 'popularity', 'loudness','liveness', 'tempo'])\n",
    "\n",
    "# Convert genre to a binary feature\n",
    "music_df[\"genre\"] = np.where(music_df[\"genre\"] == \"Rock\", 1, 0)\n",
    "\n",
    "print(music_df.isna().sum().sort_values())\n",
    "print(\"Shape of the `music_df`: {}\".format(music_df.shape))\n",
    "\n",
    "# The dataset has gone from 1000 observations down to 892, but it is now in the correct format for binary classification and the remaining missing values can be imputed as part of a pipeline.\n",
    "\n",
    "# Note this does not work with the dataset here"
   ],
   "id": "53c67cc7ed6ce808",
   "outputs": [
    {
     "name": "stdout",
     "output_type": "stream",
     "text": [
      "popularity          0\n",
      "acousticness        0\n",
      "danceability        0\n",
      "duration_ms         0\n",
      "energy              0\n",
      "instrumentalness    0\n",
      "liveness            0\n",
      "loudness            0\n",
      "speechiness         0\n",
      "tempo               0\n",
      "valence             0\n",
      "genre               0\n",
      "dtype: int64\n"
     ]
    }
   ],
   "execution_count": 37
  },
  {
   "metadata": {
    "ExecuteTime": {
     "end_time": "2024-11-26T14:48:14.441656Z",
     "start_time": "2024-11-26T14:48:14.423579Z"
    }
   },
   "cell_type": "code",
   "source": [
    "# Now it's time to build a pipeline. It will contain steps to impute missing values using the mean for each feature and build a KNN model for the classification of song genre.\n",
    "\n",
    "# Import modules\n",
    "from sklearn.pipeline import Pipeline\n",
    "from sklearn.impute import SimpleImputer\n",
    "\n",
    "# Instantiate an imputer\n",
    "imputer = SimpleImputer(strategy='most_frequent')\n",
    "\n",
    "# Instantiate a knn model\n",
    "knn = KNeighborsClassifier(n_neighbors=3)\n",
    "\n",
    "# Build steps for the pipeline\n",
    "steps = [(\"imputation\", imputer),\n",
    "         (\"knn\", knn)]"
   ],
   "id": "f4effe14be918ec2",
   "outputs": [],
   "execution_count": 38
  },
  {
   "metadata": {
    "ExecuteTime": {
     "end_time": "2024-11-26T14:51:57.959050Z",
     "start_time": "2024-11-26T14:51:57.925828Z"
    }
   },
   "cell_type": "code",
   "source": [
    "# Having set up the steps of the pipeline in the previous exercise, you will now use it on the music_df dataset to classify the genre of songs. What makes pipelines so incredibly useful is the simple interface that they provide.\n",
    "\n",
    "X_train, X_test, y_train, y_test = train_test_split(X, y, test_size=0.3, random_state=42)\n",
    "\n",
    "# Create the pipeline\n",
    "pipeline = Pipeline(steps)\n",
    "\n",
    "# Fit the pipeline to the training data\n",
    "pipeline.fit(X_train, y_train)\n",
    "\n",
    "# Make predictions on the test set\n",
    "y_pred = pipeline.predict(X_test)\n",
    "\n",
    "# Print the confusion matrix\n",
    "print(confusion_matrix(y_test,y_pred))\n",
    "\n",
    "## One can scale a model building workflow using pipelines. In this case, the confusion matrix highlights that the model had 79 true positives and 82 true negatives!\n",
    "#<script.py> output:\n",
    "#    [[79  9]\n",
    "#     [ 4 82]]"
   ],
   "id": "9317da4f80c355f0",
   "outputs": [
    {
     "name": "stdout",
     "output_type": "stream",
     "text": [
      "[[0 0 0 ... 0 0 0]\n",
      " [0 0 0 ... 0 0 0]\n",
      " [0 0 0 ... 0 0 0]\n",
      " ...\n",
      " [0 0 0 ... 0 0 0]\n",
      " [0 0 0 ... 0 0 0]\n",
      " [0 0 0 ... 0 0 0]]\n"
     ]
    }
   ],
   "execution_count": 40
  },
  {
   "metadata": {},
   "cell_type": "markdown",
   "source": "",
   "id": "70713482132b194c"
  },
  {
   "metadata": {},
   "cell_type": "markdown",
   "source": [
    "## Centering and Scaling data\n",
    "\n",
    "### Why scale our data?\n",
    "- Many models use some form of distance to inform them\n",
    "- Features on larger scales can disproportionately influence the model\n",
    "- Example: KNN uses distance explicitly when making predictions\n",
    "- We want features to be on a similar scale\n",
    "- Normalizing or standardizing (scaling and centering)\n",
    "\n",
    "### How to scale our data\n",
    "- Subtract the mean and divide by variance\n",
    "    - All features are centered around zero and have a variance of one\n",
    "    - This is called standardization\n",
    "- Can also subtract the minimum and divide by the range\n",
    "    - Minimum zero and maximum one\n",
    "- Can also normalize so the data ranges from -1 to +1"
   ],
   "id": "a1e48f0bd7d2ac90"
  },
  {
   "metadata": {
    "ExecuteTime": {
     "end_time": "2024-11-26T14:54:41.691209Z",
     "start_time": "2024-11-26T14:54:41.675551Z"
    }
   },
   "cell_type": "code",
   "source": "print(music_df[[\"duration_ms\", \"loudness\", \"speechiness\"]].describe())",
   "id": "7e2108869ad00f96",
   "outputs": [
    {
     "name": "stdout",
     "output_type": "stream",
     "text": [
      "        duration_ms     loudness  speechiness\n",
      "count  1.000000e+03  1000.000000  1000.000000\n",
      "mean   2.172204e+05    -8.253305     0.077879\n",
      "std    1.175582e+05     5.158523     0.089451\n",
      "min   -1.000000e+00   -38.718000     0.023400\n",
      "25%    1.806562e+05    -9.775500     0.033100\n",
      "50%    2.163000e+05    -6.855000     0.043600\n",
      "75%    2.605025e+05    -4.977750     0.074950\n",
      "max    1.617333e+06    -0.883000     0.710000\n"
     ]
    }
   ],
   "execution_count": 41
  },
  {
   "metadata": {
    "ExecuteTime": {
     "end_time": "2024-11-26T15:05:59.309477Z",
     "start_time": "2024-11-26T15:05:59.289018Z"
    }
   },
   "cell_type": "code",
   "source": [
    "# Pipeline to preprocess the music_df features and build a lasso regression model to predict a song's loudness.\n",
    "from sklearn.linear_model import Lasso\n",
    "\n",
    "# Import StandardScaler\n",
    "from sklearn.preprocessing import StandardScaler\n",
    "\n",
    "# Create pipeline steps\n",
    "steps = [(\"scaler\", StandardScaler()),\n",
    "         (\"lasso\", Lasso(alpha=0.5))]\n",
    "\n",
    "# Instantiate the pipeline\n",
    "pipeline = Pipeline(steps)\n",
    "pipeline.fit(X_train, y_train)\n",
    "\n",
    "# Calculate and print R-squared\n",
    "print(pipeline.score(X_test, y_test))\n",
    "\n",
    " # The model may have only produced an R-squared of 0.619, but without scaling this exact model would have only produced a score of 0.35, which proves just how powerful scaling can be!\n",
    " # <script.py> output:\n",
    "#    0.6193523316282489"
   ],
   "id": "713d83f402eada8",
   "outputs": [
    {
     "name": "stdout",
     "output_type": "stream",
     "text": [
      "0.18202081765497558\n"
     ]
    }
   ],
   "execution_count": 42
  },
  {
   "metadata": {
    "ExecuteTime": {
     "end_time": "2024-11-26T15:12:51.395758Z",
     "start_time": "2024-11-26T15:12:49.305585Z"
    }
   },
   "cell_type": "code",
   "source": [
    "# Build the steps\n",
    "steps = [(\"scaler\", StandardScaler()),\n",
    "         (\"logreg\", LogisticRegression())]\n",
    "pipeline = Pipeline(steps)\n",
    "\n",
    "# Create the parameter space\n",
    "parameters = {\"logreg__C\": np.linspace(0.001, 1.0, 20)}\n",
    "X_train, X_test, y_train, y_test = train_test_split(X, y, test_size=0.2,\n",
    "                                                    random_state=21)\n",
    "\n",
    "# Instantiate the grid search object\n",
    "cv = GridSearchCV(pipeline, param_grid=parameters)\n",
    "\n",
    "# Fit to the training data\n",
    "cv.fit(X_train, y_train)\n",
    "print(cv.best_score_, \"\\n\", cv.best_params_)\n",
    "\n",
    "# Using a pipeline shows that a logistic regression model with \"C\" set to approximately 0.1 produces a model with 0.8425 accuracy!"
   ],
   "id": "33b604dfc91d65c0",
   "outputs": [
    {
     "name": "stderr",
     "output_type": "stream",
     "text": [
      "/Users/carlrix/Projects/machine-learning-fundamentals-in-python/.venv/lib/python3.9/site-packages/sklearn/model_selection/_split.py:776: UserWarning: The least populated class in y has only 1 members, which is less than n_splits=5.\n",
      "  warnings.warn(\n"
     ]
    },
    {
     "name": "stdout",
     "output_type": "stream",
     "text": [
      "0.045000000000000005 \n",
      " {'logreg__C': np.float64(0.001)}\n"
     ]
    }
   ],
   "execution_count": 48
  },
  {
   "metadata": {},
   "cell_type": "markdown",
   "source": [
    "## Evaluating multiple models\n",
    "\n",
    "### Different models for different problems\n",
    "- **Guiding principles:**\n",
    "- Size of dataset\n",
    "    - Fewer features = simpler model, faster training time\n",
    "    - Some models require large amounts of data to perform well\n",
    "- Interpretability\n",
    "    - Some models are easier to explain, important to i.e. stakeholders\n",
    "    - Linear regressions has high interpretability, as we can understand the coefficients\n",
    "- Flexibility\n",
    "    - May improve accuracy, by making fewer assumptions about data\n",
    "    - KNN is a more flexible model, doesn't assume any linear relationships\n",
    "\n",
    "### Metrics\n",
    "- Regression model performance\n",
    "    - RMSE\n",
    "    - R-squared\n",
    "- Classification model performance\n",
    "    - Accuracy\n",
    "    - Confusion matrix\n",
    "    - Precision, recall, F1-score\n",
    "    - ROC AUC\n",
    "- Train several models and evaluate performance\n",
    "- Best to scale data before evaluating performance\n"
   ],
   "id": "983df456ee9127bc"
  },
  {
   "metadata": {
    "ExecuteTime": {
     "end_time": "2024-11-26T15:56:33.424940Z",
     "start_time": "2024-11-26T15:56:33.232708Z"
    }
   },
   "cell_type": "code",
   "source": [
    "models = {\"Linear Regression\": LinearRegression(), \"Ridge\": Ridge(alpha=0.1), \"Lasso\": Lasso(alpha=0.1)}\n",
    "results = []\n",
    "\n",
    "# Loop through the models' values\n",
    "for model in models.values():\n",
    "  kf = KFold(n_splits=6, random_state=42, shuffle=True)\n",
    "\n",
    "  # Perform cross-validation\n",
    "  cv_scores = cross_val_score(model, X_train, y_train, cv=kf)\n",
    "\n",
    "  # Append the results\n",
    "  results.append(cv_scores)\n",
    "\n",
    "# Create a box plot of the results\n",
    "plt.boxplot(results, labels=models.keys())\n",
    "plt.show()\n",
    "\n",
    "## Lasso regression is not a good model for this problem, while linear regression and ridge perform fairly equally. Let's make predictions on the test set, and see if the RMSE can guide us on model selection.\n",
    "# Very different plot in learning"
   ],
   "id": "accba8d2d894c437",
   "outputs": [
    {
     "name": "stderr",
     "output_type": "stream",
     "text": [
      "/var/folders/ng/2cfjcwnj7c71qy1817xdgfx40000gn/T/ipykernel_46581/1067245191.py:15: MatplotlibDeprecationWarning: The 'labels' parameter of boxplot() has been renamed 'tick_labels' since Matplotlib 3.9; support for the old name will be dropped in 3.11.\n",
      "  plt.boxplot(results, labels=models.keys())\n"
     ]
    },
    {
     "data": {
      "text/plain": [
       "<Figure size 640x480 with 1 Axes>"
      ],
      "image/png": "[encoded data removed]"
     },
     "metadata": {},
     "output_type": "display_data"
    }
   ],
   "execution_count": 51
  },
  {
   "metadata": {
    "ExecuteTime": {
     "end_time": "2024-11-26T15:59:30.379472Z",
     "start_time": "2024-11-26T15:59:30.346678Z"
    }
   },
   "cell_type": "code",
   "source": [
    "#In the last exercise, linear regression and ridge appeared to produce similar results. It would be appropriate to select either of those models; however, you can check predictive performance on the test set to see if either one can outperform the other.\n",
    "\n",
    "# Import mean_squared_error\n",
    "from sklearn.metrics import mean_squared_error\n",
    "\n",
    "for name, model in models.items():\n",
    "\n",
    "  # Fit the model to the training data\n",
    "  #model.fit(X_train_scaled, y_train)\n",
    "\n",
    "  # Make predictions on the test set\n",
    "  #y_pred = model.predict(X_test_scaled)\n",
    "\n",
    "  # Calculate the test_rmse\n",
    "  test_rmse = mean_squared_error(y_test, y_pred, squared=False)\n",
    "  print(\"{} Test Set RMSE: {}\".format(name, test_rmse))\n",
    "\n",
    "# The linear regression model just edges the best performance, although the difference is a RMSE of 0.00001 for popularity! Now let's look at classification model selection."
   ],
   "id": "a005647aa22c6237",
   "outputs": [
    {
     "ename": "NameError",
     "evalue": "name 'X_train_scaled' is not defined",
     "output_type": "error",
     "traceback": [
      "\u001B[0;31m---------------------------------------------------------------------------\u001B[0m",
      "\u001B[0;31mNameError\u001B[0m                                 Traceback (most recent call last)",
      "Cell \u001B[0;32mIn[52], line 9\u001B[0m\n\u001B[1;32m      4\u001B[0m \u001B[38;5;28;01mfrom\u001B[39;00m \u001B[38;5;21;01msklearn\u001B[39;00m\u001B[38;5;21;01m.\u001B[39;00m\u001B[38;5;21;01mmetrics\u001B[39;00m \u001B[38;5;28;01mimport\u001B[39;00m mean_squared_error\n\u001B[1;32m      6\u001B[0m \u001B[38;5;28;01mfor\u001B[39;00m name, model \u001B[38;5;129;01min\u001B[39;00m models\u001B[38;5;241m.\u001B[39mitems():\n\u001B[1;32m      7\u001B[0m \n\u001B[1;32m      8\u001B[0m   \u001B[38;5;66;03m# Fit the model to the training data\u001B[39;00m\n\u001B[0;32m----> 9\u001B[0m   model\u001B[38;5;241m.\u001B[39mfit(\u001B[43mX_train_scaled\u001B[49m, y_train)\n\u001B[1;32m     11\u001B[0m   \u001B[38;5;66;03m# Make predictions on the test set\u001B[39;00m\n\u001B[1;32m     12\u001B[0m   y_pred \u001B[38;5;241m=\u001B[39m model\u001B[38;5;241m.\u001B[39mpredict(X_test_scaled)\n",
      "\u001B[0;31mNameError\u001B[0m: name 'X_train_scaled' is not defined"
     ]
    }
   ],
   "execution_count": 52
  },
  {
   "metadata": {
    "ExecuteTime": {
     "end_time": "2024-11-26T16:05:44.275924Z",
     "start_time": "2024-11-26T16:05:43.773108Z"
    }
   },
   "cell_type": "code",
   "source": [
    "# Create models dictionary\n",
    "models = {\"Logistic Regression\": LogisticRegression(), \"KNN\": KNeighborsClassifier(), \"Decision Tree Classifier\": DecisionTreeClassifier()}\n",
    "results = []\n",
    "\n",
    "# Loop through the models' values\n",
    "for model in models.values():\n",
    "\n",
    "  # Instantiate a KFold object\n",
    "  kf = KFold(n_splits=6, random_state=12, shuffle=True)\n",
    "\n",
    "  # Perform cross-validation\n",
    "  cv_results = cross_val_score(model, X_train, y_train, cv=kf)\n",
    "  results.append(cv_results)\n",
    "plt.boxplot(results, labels=models.keys())\n",
    "plt.show()\n",
    "\n",
    "# Looks like logistic regression is the best candidate based on the cross-validation results! Let's wrap up by building a pipeline\n",
    "# However at this point the results from the learning are very different"
   ],
   "id": "5aca2eeececa864f",
   "outputs": [
    {
     "name": "stderr",
     "output_type": "stream",
     "text": [
      "/Users/carlrix/Projects/machine-learning-fundamentals-in-python/.venv/lib/python3.9/site-packages/sklearn/linear_model/_logistic.py:469: ConvergenceWarning: lbfgs failed to converge (status=1):\n",
      "STOP: TOTAL NO. of ITERATIONS REACHED LIMIT.\n",
      "\n",
      "Increase the number of iterations (max_iter) or scale the data as shown in:\n",
      "    https://scikit-learn.org/stable/modules/preprocessing.html\n",
      "Please also refer to the documentation for alternative solver options:\n",
      "    https://scikit-learn.org/stable/modules/linear_model.html#logistic-regression\n",
      "  n_iter_i = _check_optimize_result(\n",
      "/Users/carlrix/Projects/machine-learning-fundamentals-in-python/.venv/lib/python3.9/site-packages/sklearn/linear_model/_logistic.py:469: ConvergenceWarning: lbfgs failed to converge (status=1):\n",
      "STOP: TOTAL NO. of ITERATIONS REACHED LIMIT.\n",
      "\n",
      "Increase the number of iterations (max_iter) or scale the data as shown in:\n",
      "    https://scikit-learn.org/stable/modules/preprocessing.html\n",
      "Please also refer to the documentation for alternative solver options:\n",
      "    https://scikit-learn.org/stable/modules/linear_model.html#logistic-regression\n",
      "  n_iter_i = _check_optimize_result(\n",
      "/Users/carlrix/Projects/machine-learning-fundamentals-in-python/.venv/lib/python3.9/site-packages/sklearn/linear_model/_logistic.py:469: ConvergenceWarning: lbfgs failed to converge (status=1):\n",
      "STOP: TOTAL NO. of ITERATIONS REACHED LIMIT.\n",
      "\n",
      "Increase the number of iterations (max_iter) or scale the data as shown in:\n",
      "    https://scikit-learn.org/stable/modules/preprocessing.html\n",
      "Please also refer to the documentation for alternative solver options:\n",
      "    https://scikit-learn.org/stable/modules/linear_model.html#logistic-regression\n",
      "  n_iter_i = _check_optimize_result(\n",
      "/Users/carlrix/Projects/machine-learning-fundamentals-in-python/.venv/lib/python3.9/site-packages/sklearn/linear_model/_logistic.py:469: ConvergenceWarning: lbfgs failed to converge (status=1):\n",
      "STOP: TOTAL NO. of ITERATIONS REACHED LIMIT.\n",
      "\n",
      "Increase the number of iterations (max_iter) or scale the data as shown in:\n",
      "    https://scikit-learn.org/stable/modules/preprocessing.html\n",
      "Please also refer to the documentation for alternative solver options:\n",
      "    https://scikit-learn.org/stable/modules/linear_model.html#logistic-regression\n",
      "  n_iter_i = _check_optimize_result(\n",
      "/Users/carlrix/Projects/machine-learning-fundamentals-in-python/.venv/lib/python3.9/site-packages/sklearn/linear_model/_logistic.py:469: ConvergenceWarning: lbfgs failed to converge (status=1):\n",
      "STOP: TOTAL NO. of ITERATIONS REACHED LIMIT.\n",
      "\n",
      "Increase the number of iterations (max_iter) or scale the data as shown in:\n",
      "    https://scikit-learn.org/stable/modules/preprocessing.html\n",
      "Please also refer to the documentation for alternative solver options:\n",
      "    https://scikit-learn.org/stable/modules/linear_model.html#logistic-regression\n",
      "  n_iter_i = _check_optimize_result(\n",
      "/Users/carlrix/Projects/machine-learning-fundamentals-in-python/.venv/lib/python3.9/site-packages/sklearn/linear_model/_logistic.py:469: ConvergenceWarning: lbfgs failed to converge (status=1):\n",
      "STOP: TOTAL NO. of ITERATIONS REACHED LIMIT.\n",
      "\n",
      "Increase the number of iterations (max_iter) or scale the data as shown in:\n",
      "    https://scikit-learn.org/stable/modules/preprocessing.html\n",
      "Please also refer to the documentation for alternative solver options:\n",
      "    https://scikit-learn.org/stable/modules/linear_model.html#logistic-regression\n",
      "  n_iter_i = _check_optimize_result(\n",
      "/var/folders/ng/2cfjcwnj7c71qy1817xdgfx40000gn/T/ipykernel_46581/2404821521.py:14: MatplotlibDeprecationWarning: The 'labels' parameter of boxplot() has been renamed 'tick_labels' since Matplotlib 3.9; support for the old name will be dropped in 3.11.\n",
      "  plt.boxplot(results, labels=models.keys())\n"
     ]
    },
    {
     "data": {
      "text/plain": [
       "<Figure size 640x480 with 1 Axes>"
      ],
      "image/png": "[encoded data removed]"
     },
     "metadata": {},
     "output_type": "display_data"
    }
   ],
   "execution_count": 57
  },
  {
   "metadata": {
    "ExecuteTime": {
     "end_time": "2024-11-26T16:08:04.930805Z",
     "start_time": "2024-11-26T16:07:56.661762Z"
    }
   },
   "cell_type": "code",
   "source": [
    "# Create steps\n",
    "steps = [(\"imp_mean\", SimpleImputer()),\n",
    "         (\"scaler\", StandardScaler()),\n",
    "         (\"logreg\", LogisticRegression())]\n",
    "\n",
    "# Set up pipeline\n",
    "pipeline = Pipeline(steps)\n",
    "params = {\"logreg__solver\": [\"newton-cg\", \"saga\", \"lbfgs\"],\n",
    "         \"logreg__C\": np.linspace(0.001, 1.0, 10)}\n",
    "\n",
    "# Create the GridSearchCV object\n",
    "tuning = GridSearchCV(pipeline, param_grid=params)\n",
    "tuning.fit(X_train, y_train)\n",
    "y_pred = tuning.predict(X_test)\n",
    "\n",
    "# Compute and print performance\n",
    "print(\"Tuned Logistic Regression Parameters: {}, Accuracy: {}\".format(tuning.best_params_, tuning.score(X_test, y_test)))"
   ],
   "id": "868181cf9d49c245",
   "outputs": [
    {
     "name": "stderr",
     "output_type": "stream",
     "text": [
      "/Users/carlrix/Projects/machine-learning-fundamentals-in-python/.venv/lib/python3.9/site-packages/sklearn/model_selection/_split.py:776: UserWarning: The least populated class in y has only 1 members, which is less than n_splits=5.\n",
      "  warnings.warn(\n",
      "/Users/carlrix/Projects/machine-learning-fundamentals-in-python/.venv/lib/python3.9/site-packages/sklearn/linear_model/_sag.py:349: ConvergenceWarning: The max_iter was reached which means the coef_ did not converge\n",
      "  warnings.warn(\n",
      "/Users/carlrix/Projects/machine-learning-fundamentals-in-python/.venv/lib/python3.9/site-packages/sklearn/linear_model/_sag.py:349: ConvergenceWarning: The max_iter was reached which means the coef_ did not converge\n",
      "  warnings.warn(\n",
      "/Users/carlrix/Projects/machine-learning-fundamentals-in-python/.venv/lib/python3.9/site-packages/sklearn/linear_model/_sag.py:349: ConvergenceWarning: The max_iter was reached which means the coef_ did not converge\n",
      "  warnings.warn(\n",
      "/Users/carlrix/Projects/machine-learning-fundamentals-in-python/.venv/lib/python3.9/site-packages/sklearn/linear_model/_sag.py:349: ConvergenceWarning: The max_iter was reached which means the coef_ did not converge\n",
      "  warnings.warn(\n",
      "/Users/carlrix/Projects/machine-learning-fundamentals-in-python/.venv/lib/python3.9/site-packages/sklearn/linear_model/_sag.py:349: ConvergenceWarning: The max_iter was reached which means the coef_ did not converge\n",
      "  warnings.warn(\n",
      "/Users/carlrix/Projects/machine-learning-fundamentals-in-python/.venv/lib/python3.9/site-packages/sklearn/linear_model/_sag.py:349: ConvergenceWarning: The max_iter was reached which means the coef_ did not converge\n",
      "  warnings.warn(\n",
      "/Users/carlrix/Projects/machine-learning-fundamentals-in-python/.venv/lib/python3.9/site-packages/sklearn/linear_model/_sag.py:349: ConvergenceWarning: The max_iter was reached which means the coef_ did not converge\n",
      "  warnings.warn(\n",
      "/Users/carlrix/Projects/machine-learning-fundamentals-in-python/.venv/lib/python3.9/site-packages/sklearn/linear_model/_sag.py:349: ConvergenceWarning: The max_iter was reached which means the coef_ did not converge\n",
      "  warnings.warn(\n",
      "/Users/carlrix/Projects/machine-learning-fundamentals-in-python/.venv/lib/python3.9/site-packages/sklearn/linear_model/_sag.py:349: ConvergenceWarning: The max_iter was reached which means the coef_ did not converge\n",
      "  warnings.warn(\n",
      "/Users/carlrix/Projects/machine-learning-fundamentals-in-python/.venv/lib/python3.9/site-packages/sklearn/linear_model/_sag.py:349: ConvergenceWarning: The max_iter was reached which means the coef_ did not converge\n",
      "  warnings.warn(\n",
      "/Users/carlrix/Projects/machine-learning-fundamentals-in-python/.venv/lib/python3.9/site-packages/sklearn/linear_model/_sag.py:349: ConvergenceWarning: The max_iter was reached which means the coef_ did not converge\n",
      "  warnings.warn(\n",
      "/Users/carlrix/Projects/machine-learning-fundamentals-in-python/.venv/lib/python3.9/site-packages/sklearn/linear_model/_sag.py:349: ConvergenceWarning: The max_iter was reached which means the coef_ did not converge\n",
      "  warnings.warn(\n",
      "/Users/carlrix/Projects/machine-learning-fundamentals-in-python/.venv/lib/python3.9/site-packages/sklearn/linear_model/_sag.py:349: ConvergenceWarning: The max_iter was reached which means the coef_ did not converge\n",
      "  warnings.warn(\n",
      "/Users/carlrix/Projects/machine-learning-fundamentals-in-python/.venv/lib/python3.9/site-packages/sklearn/linear_model/_sag.py:349: ConvergenceWarning: The max_iter was reached which means the coef_ did not converge\n",
      "  warnings.warn(\n",
      "/Users/carlrix/Projects/machine-learning-fundamentals-in-python/.venv/lib/python3.9/site-packages/sklearn/linear_model/_sag.py:349: ConvergenceWarning: The max_iter was reached which means the coef_ did not converge\n",
      "  warnings.warn(\n",
      "/Users/carlrix/Projects/machine-learning-fundamentals-in-python/.venv/lib/python3.9/site-packages/sklearn/linear_model/_sag.py:349: ConvergenceWarning: The max_iter was reached which means the coef_ did not converge\n",
      "  warnings.warn(\n",
      "/Users/carlrix/Projects/machine-learning-fundamentals-in-python/.venv/lib/python3.9/site-packages/sklearn/linear_model/_sag.py:349: ConvergenceWarning: The max_iter was reached which means the coef_ did not converge\n",
      "  warnings.warn(\n",
      "/Users/carlrix/Projects/machine-learning-fundamentals-in-python/.venv/lib/python3.9/site-packages/sklearn/linear_model/_sag.py:349: ConvergenceWarning: The max_iter was reached which means the coef_ did not converge\n",
      "  warnings.warn(\n",
      "/Users/carlrix/Projects/machine-learning-fundamentals-in-python/.venv/lib/python3.9/site-packages/sklearn/linear_model/_sag.py:349: ConvergenceWarning: The max_iter was reached which means the coef_ did not converge\n",
      "  warnings.warn(\n",
      "/Users/carlrix/Projects/machine-learning-fundamentals-in-python/.venv/lib/python3.9/site-packages/sklearn/linear_model/_sag.py:349: ConvergenceWarning: The max_iter was reached which means the coef_ did not converge\n",
      "  warnings.warn(\n",
      "/Users/carlrix/Projects/machine-learning-fundamentals-in-python/.venv/lib/python3.9/site-packages/sklearn/linear_model/_sag.py:349: ConvergenceWarning: The max_iter was reached which means the coef_ did not converge\n",
      "  warnings.warn(\n",
      "/Users/carlrix/Projects/machine-learning-fundamentals-in-python/.venv/lib/python3.9/site-packages/sklearn/linear_model/_sag.py:349: ConvergenceWarning: The max_iter was reached which means the coef_ did not converge\n",
      "  warnings.warn(\n",
      "/Users/carlrix/Projects/machine-learning-fundamentals-in-python/.venv/lib/python3.9/site-packages/sklearn/linear_model/_sag.py:349: ConvergenceWarning: The max_iter was reached which means the coef_ did not converge\n",
      "  warnings.warn(\n",
      "/Users/carlrix/Projects/machine-learning-fundamentals-in-python/.venv/lib/python3.9/site-packages/sklearn/linear_model/_sag.py:349: ConvergenceWarning: The max_iter was reached which means the coef_ did not converge\n",
      "  warnings.warn(\n",
      "/Users/carlrix/Projects/machine-learning-fundamentals-in-python/.venv/lib/python3.9/site-packages/sklearn/linear_model/_sag.py:349: ConvergenceWarning: The max_iter was reached which means the coef_ did not converge\n",
      "  warnings.warn(\n",
      "/Users/carlrix/Projects/machine-learning-fundamentals-in-python/.venv/lib/python3.9/site-packages/sklearn/linear_model/_sag.py:349: ConvergenceWarning: The max_iter was reached which means the coef_ did not converge\n",
      "  warnings.warn(\n",
      "/Users/carlrix/Projects/machine-learning-fundamentals-in-python/.venv/lib/python3.9/site-packages/sklearn/linear_model/_sag.py:349: ConvergenceWarning: The max_iter was reached which means the coef_ did not converge\n",
      "  warnings.warn(\n",
      "/Users/carlrix/Projects/machine-learning-fundamentals-in-python/.venv/lib/python3.9/site-packages/sklearn/linear_model/_sag.py:349: ConvergenceWarning: The max_iter was reached which means the coef_ did not converge\n",
      "  warnings.warn(\n",
      "/Users/carlrix/Projects/machine-learning-fundamentals-in-python/.venv/lib/python3.9/site-packages/sklearn/linear_model/_sag.py:349: ConvergenceWarning: The max_iter was reached which means the coef_ did not converge\n",
      "  warnings.warn(\n",
      "/Users/carlrix/Projects/machine-learning-fundamentals-in-python/.venv/lib/python3.9/site-packages/sklearn/linear_model/_sag.py:349: ConvergenceWarning: The max_iter was reached which means the coef_ did not converge\n",
      "  warnings.warn(\n",
      "/Users/carlrix/Projects/machine-learning-fundamentals-in-python/.venv/lib/python3.9/site-packages/sklearn/linear_model/_sag.py:349: ConvergenceWarning: The max_iter was reached which means the coef_ did not converge\n",
      "  warnings.warn(\n",
      "/Users/carlrix/Projects/machine-learning-fundamentals-in-python/.venv/lib/python3.9/site-packages/sklearn/linear_model/_sag.py:349: ConvergenceWarning: The max_iter was reached which means the coef_ did not converge\n",
      "  warnings.warn(\n",
      "/Users/carlrix/Projects/machine-learning-fundamentals-in-python/.venv/lib/python3.9/site-packages/sklearn/linear_model/_sag.py:349: ConvergenceWarning: The max_iter was reached which means the coef_ did not converge\n",
      "  warnings.warn(\n",
      "/Users/carlrix/Projects/machine-learning-fundamentals-in-python/.venv/lib/python3.9/site-packages/sklearn/linear_model/_sag.py:349: ConvergenceWarning: The max_iter was reached which means the coef_ did not converge\n",
      "  warnings.warn(\n",
      "/Users/carlrix/Projects/machine-learning-fundamentals-in-python/.venv/lib/python3.9/site-packages/sklearn/linear_model/_sag.py:349: ConvergenceWarning: The max_iter was reached which means the coef_ did not converge\n",
      "  warnings.warn(\n",
      "/Users/carlrix/Projects/machine-learning-fundamentals-in-python/.venv/lib/python3.9/site-packages/sklearn/linear_model/_sag.py:349: ConvergenceWarning: The max_iter was reached which means the coef_ did not converge\n",
      "  warnings.warn(\n",
      "/Users/carlrix/Projects/machine-learning-fundamentals-in-python/.venv/lib/python3.9/site-packages/sklearn/linear_model/_sag.py:349: ConvergenceWarning: The max_iter was reached which means the coef_ did not converge\n",
      "  warnings.warn(\n",
      "/Users/carlrix/Projects/machine-learning-fundamentals-in-python/.venv/lib/python3.9/site-packages/sklearn/linear_model/_sag.py:349: ConvergenceWarning: The max_iter was reached which means the coef_ did not converge\n",
      "  warnings.warn(\n",
      "/Users/carlrix/Projects/machine-learning-fundamentals-in-python/.venv/lib/python3.9/site-packages/sklearn/linear_model/_sag.py:349: ConvergenceWarning: The max_iter was reached which means the coef_ did not converge\n",
      "  warnings.warn(\n",
      "/Users/carlrix/Projects/machine-learning-fundamentals-in-python/.venv/lib/python3.9/site-packages/sklearn/linear_model/_sag.py:349: ConvergenceWarning: The max_iter was reached which means the coef_ did not converge\n",
      "  warnings.warn(\n",
      "/Users/carlrix/Projects/machine-learning-fundamentals-in-python/.venv/lib/python3.9/site-packages/sklearn/linear_model/_sag.py:349: ConvergenceWarning: The max_iter was reached which means the coef_ did not converge\n",
      "  warnings.warn(\n",
      "/Users/carlrix/Projects/machine-learning-fundamentals-in-python/.venv/lib/python3.9/site-packages/sklearn/linear_model/_sag.py:349: ConvergenceWarning: The max_iter was reached which means the coef_ did not converge\n",
      "  warnings.warn(\n",
      "/Users/carlrix/Projects/machine-learning-fundamentals-in-python/.venv/lib/python3.9/site-packages/sklearn/linear_model/_sag.py:349: ConvergenceWarning: The max_iter was reached which means the coef_ did not converge\n",
      "  warnings.warn(\n",
      "/Users/carlrix/Projects/machine-learning-fundamentals-in-python/.venv/lib/python3.9/site-packages/sklearn/linear_model/_sag.py:349: ConvergenceWarning: The max_iter was reached which means the coef_ did not converge\n",
      "  warnings.warn(\n",
      "/Users/carlrix/Projects/machine-learning-fundamentals-in-python/.venv/lib/python3.9/site-packages/sklearn/linear_model/_sag.py:349: ConvergenceWarning: The max_iter was reached which means the coef_ did not converge\n",
      "  warnings.warn(\n",
      "/Users/carlrix/Projects/machine-learning-fundamentals-in-python/.venv/lib/python3.9/site-packages/sklearn/linear_model/_sag.py:349: ConvergenceWarning: The max_iter was reached which means the coef_ did not converge\n",
      "  warnings.warn(\n"
     ]
    },
    {
     "name": "stdout",
     "output_type": "stream",
     "text": [
      "Tuned Logistic Regression Parameters: {'logreg__C': np.float64(0.001), 'logreg__solver': 'newton-cg'}, Accuracy: 0.055\n"
     ]
    },
    {
     "name": "stderr",
     "output_type": "stream",
     "text": [
      "/Users/carlrix/Projects/machine-learning-fundamentals-in-python/.venv/lib/python3.9/site-packages/sklearn/linear_model/_sag.py:349: ConvergenceWarning: The max_iter was reached which means the coef_ did not converge\n",
      "  warnings.warn(\n"
     ]
    }
   ],
   "execution_count": 59
  },
  {
   "metadata": {},
   "cell_type": "markdown",
   "source": [
    "## What has been learned\n",
    "- Using supervised learning techniques to build predictive models\n",
    "- For both regression and classification problems\n",
    "- Underfitting and overfitting\n",
    "- How to split data\n",
    "- Cross-validation\n",
    "\n",
    "- Reprocessing techniques\n",
    "- Model selection\n",
    "- Hyperparameter tuning\n",
    "- Model performance evaluation\n",
    "- Used pipelines"
   ],
   "id": "3aa0109289af08c"
  },
  {
   "metadata": {},
   "cell_type": "code",
   "outputs": [],
   "execution_count": null,
   "source": "",
   "id": "14bbdca4f4acefec"
  }
 ],
 "metadata": {
  "kernelspec": {
   "display_name": "Python 3",
   "language": "python",
   "name": "python3"
  },
  "language_info": {
   "codemirror_mode": {
    "name": "ipython",
    "version": 2
   },
   "file_extension": ".py",
   "mimetype": "text/x-python",
   "name": "python",
   "nbconvert_exporter": "python",
   "pygments_lexer": "ipython2",
   "version": "2.7.6"
  }
 },
 "nbformat": 4,
 "nbformat_minor": 5
}
