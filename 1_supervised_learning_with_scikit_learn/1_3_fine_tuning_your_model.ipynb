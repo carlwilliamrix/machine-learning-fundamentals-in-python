{
 "cells": [
  {
   "metadata": {},
   "cell_type": "markdown",
   "source": [
    "## Class impalance\n",
    "- Classification for predicting fraudulent bank transactions\n",
    "    - 99% of transactions are legitimate; 1% are fraudulent\n",
    "- Could build a classifier that predicts NONE of the transactions are fraudulent\n",
    "    - 99% accurate!\n",
    "    - But terrible at actually predicting fraudulent transactions (fails original purpose)\n",
    "- Class imbalance: Uneven frequency of classes\n",
    "\n",
    "Assessing classification performance with a confusion matrix\n",
    "\n",
    "Precision = True positives/(true positives + false positives)\n",
    "- High precision = lower positive rate\n",
    "- High precision = Not many legitimate transactions are predicted to be fraudulent\n",
    "\n",
    "Recall = True positives/true positives + false negatives\n",
    "- High recall = lower false negative rate\n",
    "- High recall: Predicted most fraudulent transactions correctly\n",
    "\n",
    "F1 Score: 2*(precision*recall/(precision+recall))\n",
    "-harmonic mean between precision and recall, factors in number of errors and type of errors"
   ],
   "id": "fcd635c68e456c25"
  },
  {
   "metadata": {
    "ExecuteTime": {
     "end_time": "2024-11-19T20:13:56.150397Z",
     "start_time": "2024-11-19T20:13:56.124611Z"
    }
   },
   "cell_type": "code",
   "source": [
    "import numpy as np\n",
    "import pandas as pd\n",
    "\n",
    "from sklearn.neighbors import KNeighborsClassifier\n",
    "from sklearn.metrics import classification_report, confusion_matrix\n",
    "from sklearn.model_selection import train_test_split\n",
    "\n",
    "\n",
    "churn_df = pd.read_csv('../resources/telecom_churn_clean.csv')"
   ],
   "id": "d50c543ec4aff5c8",
   "outputs": [],
   "execution_count": 2
  },
  {
   "metadata": {
    "ExecuteTime": {
     "end_time": "2024-11-19T20:14:31.172527Z",
     "start_time": "2024-11-19T20:14:31.137113Z"
    }
   },
   "cell_type": "code",
   "source": [
    "y = churn_df[\"churn\"].values\n",
    "X = churn_df[[\"account_length\", \"customer_service_calls\"]].values\n",
    "\n",
    "knn = KNeighborsClassifier(n_neighbors=7)\n",
    "X_train, X_test, y_train, y_test = train_test_split(X, y, test_size=0.4, random_state=42)\n",
    "\n",
    "knn.fit(X_train, y_train)\n",
    "y_pred = knn.predict(X_test)\n",
    "\n",
    "print(confusion_matrix(y_test, y_pred))\n",
    "print(classification_report(y_test, y_pred))"
   ],
   "id": "bd110b0583628dff",
   "outputs": [
    {
     "name": "stdout",
     "output_type": "stream",
     "text": [
      "[[1129    9]\n",
      " [ 189    7]]\n",
      "              precision    recall  f1-score   support\n",
      "\n",
      "           0       0.86      0.99      0.92      1138\n",
      "           1       0.44      0.04      0.07       196\n",
      "\n",
      "    accuracy                           0.85      1334\n",
      "   macro avg       0.65      0.51      0.49      1334\n",
      "weighted avg       0.80      0.85      0.79      1334\n",
      "\n"
     ]
    }
   ],
   "execution_count": 5
  }
 ],
 "metadata": {
  "kernelspec": {
   "display_name": "Python 3",
   "language": "python",
   "name": "python3"
  },
  "language_info": {
   "codemirror_mode": {
    "name": "ipython",
    "version": 2
   },
   "file_extension": ".py",
   "mimetype": "text/x-python",
   "name": "python",
   "nbconvert_exporter": "python",
   "pygments_lexer": "ipython2",
   "version": "2.7.6"
  }
 },
 "nbformat": 4,
 "nbformat_minor": 5
}
