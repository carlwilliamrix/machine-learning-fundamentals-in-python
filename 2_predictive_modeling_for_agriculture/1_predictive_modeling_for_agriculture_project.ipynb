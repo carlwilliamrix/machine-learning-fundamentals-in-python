{
 "cells": [
  {
   "metadata": {},
   "cell_type": "markdown",
   "source": [
    "# Sowing Success: How Machine Learning Helps Farmers Select the Best Crops\n",
    "\n",
    "Measuring essential soil metrics such as nitrogen, phosphorous, potassium levels, and pH value is an important aspect of assessing soil condition. However, it can be an expensive and time-consuming process, which can cause farmers to prioritize which metrics to measure based on their budget constraints.\n",
    "\n",
    "Farmers have various options when it comes to deciding which crop to plant each season. Their primary objective is to maximize the yield of their crops, taking into account different factors. One crucial factor that affects crop growth is the condition of the soil in the field, which can be assessed by measuring basic elements such as nitrogen and potassium levels. Each crop has an ideal soil condition that ensures optimal growth and maximum yield.\n",
    "\n",
    "A farmer reached out to you as a machine learning expert for assistance in selecting the best crop for his field. They've provided you with a dataset called `soil_measures.csv`, which contains:\n",
    "\n",
    "- `\"N\"`: Nitrogen content ratio in the soil\n",
    "- `\"P\"`: Phosphorous content ratio in the soil\n",
    "- `\"K\"`: Potassium content ratio in the soil\n",
    "- `\"pH\"` value of the soil\n",
    "- `\"crop\"`: categorical values that contain various crops (target variable).\n",
    "\n",
    "Each row in this dataset represents various measures of the soil in a particular field. Based on these measurements, the crop specified in the `\"crop\"` column is the optimal choice for that field.\n",
    "\n",
    "In this project, you will build multi-class classification models to predict the type of `\"crop\"` and identify the single most importance feature for predictive performance."
   ],
   "id": "45db06f97157f83"
  },
  {
   "metadata": {
    "ExecuteTime": {
     "end_time": "2024-11-26T16:18:50.353228Z",
     "start_time": "2024-11-26T16:18:50.333191Z"
    }
   },
   "cell_type": "code",
   "source": [
    "# All required libraries are imported here for you.\n",
    "import pandas as pd\n",
    "from sklearn.linear_model import LogisticRegression\n",
    "from sklearn.model_selection import train_test_split\n",
    "from sklearn import metrics\n",
    "\n",
    "# Load the dataset\n",
    "crops = pd.read_csv(\"../resources/soil_measures.csv\")\n",
    "\n",
    "print(crops.head())"
   ],
   "id": "88cdb8f8e38b871d",
   "outputs": [
    {
     "name": "stdout",
     "output_type": "stream",
     "text": [
      "    N   P   K        ph  crop\n",
      "0  90  42  43  6.502985  rice\n",
      "1  85  58  41  7.038096  rice\n",
      "2  60  55  44  7.840207  rice\n",
      "3  74  35  40  6.980401  rice\n",
      "4  78  42  42  7.628473  rice\n"
     ]
    }
   ],
   "execution_count": 8
  },
  {
   "metadata": {
    "ExecuteTime": {
     "end_time": "2024-11-26T16:23:20.556141Z",
     "start_time": "2024-11-26T16:23:20.536462Z"
    }
   },
   "cell_type": "code",
   "source": [
    "# Exploring the data further\n",
    "print(crops.isna().sum().sort_values())\n",
    "# No missing values therefore no need to drop NA rows\n",
    "\n",
    "# Check for crop types\n",
    "print(pd.unique(crops['crop']))"
   ],
   "id": "5b934e47a76e8650",
   "outputs": [
    {
     "name": "stdout",
     "output_type": "stream",
     "text": [
      "N       0\n",
      "P       0\n",
      "K       0\n",
      "ph      0\n",
      "crop    0\n",
      "dtype: int64\n",
      "['rice' 'maize' 'chickpea' 'kidneybeans' 'pigeonpeas' 'mothbeans'\n",
      " 'mungbean' 'blackgram' 'lentil' 'pomegranate' 'banana' 'mango' 'grapes'\n",
      " 'watermelon' 'muskmelon' 'apple' 'orange' 'papaya' 'coconut' 'cotton'\n",
      " 'jute' 'coffee']\n"
     ]
    }
   ],
   "execution_count": 10
  },
  {
   "metadata": {
    "ExecuteTime": {
     "end_time": "2024-11-26T16:33:51.730518Z",
     "start_time": "2024-11-26T16:33:51.724105Z"
    }
   },
   "cell_type": "code",
   "source": [
    "# Create training and test sets using all features\n",
    "# First identify and extract feature and target variables\n",
    "X = crops.drop(columns='crop')\n",
    "y = crops['crop']\n",
    "\n",
    "# Create the split\n",
    "X_train, X_test, y_train, y_test = train_test_split(X, y, test_size=0.3, random_state=42)"
   ],
   "id": "7dcc15305474bd81",
   "outputs": [],
   "execution_count": 12
  },
  {
   "metadata": {
    "ExecuteTime": {
     "end_time": "2024-11-26T16:55:39.717679Z",
     "start_time": "2024-11-26T16:55:31.685654Z"
    }
   },
   "cell_type": "code",
   "source": [
    "# Evaluate feature performance\n",
    "# Create a dictionary to store each features predictive performance\n",
    "best_predictive_feature = {\"\":\"\"}\n",
    "feature_performance = {}\n",
    "\n",
    "for feat in [\"N\", \"P\", \"K\", \"ph\"]:\n",
    "    # Create model and support multi-class prediction\n",
    "    logreg = LogisticRegression(multi_class=\"multinomial\", max_iter=10000)\n",
    "    # Fit the model\n",
    "    logreg.fit(X_train[[feat]], y_train)\n",
    "\n",
    "    y_pred = logreg.predict(X_test[[feat]])\n",
    "\n",
    "    feature_performance[feat] = metrics.f1_score(y_test, y_pred, average=\"weighted\")\n",
    "    print(f\"F1-Score for {feat} is: {feature_performance[feat]}\")"
   ],
   "id": "1389790c0e556c47",
   "outputs": [
    {
     "name": "stderr",
     "output_type": "stream",
     "text": [
      "/Users/carlrix/Projects/machine-learning-fundamentals-in-python/.venv/lib/python3.9/site-packages/sklearn/linear_model/_logistic.py:1247: FutureWarning: 'multi_class' was deprecated in version 1.5 and will be removed in 1.7. From then on, it will always use 'multinomial'. Leave it to its default value to avoid this warning.\n",
      "  warnings.warn(\n"
     ]
    },
    {
     "name": "stdout",
     "output_type": "stream",
     "text": [
      "F1-Score for N is: 0.10768025054272219\n"
     ]
    },
    {
     "name": "stderr",
     "output_type": "stream",
     "text": [
      "/Users/carlrix/Projects/machine-learning-fundamentals-in-python/.venv/lib/python3.9/site-packages/sklearn/linear_model/_logistic.py:1247: FutureWarning: 'multi_class' was deprecated in version 1.5 and will be removed in 1.7. From then on, it will always use 'multinomial'. Leave it to its default value to avoid this warning.\n",
      "  warnings.warn(\n"
     ]
    },
    {
     "name": "stdout",
     "output_type": "stream",
     "text": [
      "F1-Score for P is: 0.1259027772467463\n"
     ]
    },
    {
     "name": "stderr",
     "output_type": "stream",
     "text": [
      "/Users/carlrix/Projects/machine-learning-fundamentals-in-python/.venv/lib/python3.9/site-packages/sklearn/linear_model/_logistic.py:1247: FutureWarning: 'multi_class' was deprecated in version 1.5 and will be removed in 1.7. From then on, it will always use 'multinomial'. Leave it to its default value to avoid this warning.\n",
      "  warnings.warn(\n"
     ]
    },
    {
     "name": "stdout",
     "output_type": "stream",
     "text": [
      "F1-Score for K is: 0.19351478738639477\n",
      "F1-Score for ph is: 0.06551334017644783\n"
     ]
    },
    {
     "name": "stderr",
     "output_type": "stream",
     "text": [
      "/Users/carlrix/Projects/machine-learning-fundamentals-in-python/.venv/lib/python3.9/site-packages/sklearn/linear_model/_logistic.py:1247: FutureWarning: 'multi_class' was deprecated in version 1.5 and will be removed in 1.7. From then on, it will always use 'multinomial'. Leave it to its default value to avoid this warning.\n",
      "  warnings.warn(\n"
     ]
    }
   ],
   "execution_count": 20
  },
  {
   "metadata": {
    "ExecuteTime": {
     "end_time": "2024-11-26T17:01:18.669349Z",
     "start_time": "2024-11-26T17:01:18.664229Z"
    }
   },
   "cell_type": "code",
   "source": [
    "best_predictive_feature = max(feature_performance, key=feature_performance.get)\n",
    "print(best_predictive_feature)"
   ],
   "id": "53bec0b92665a1cc",
   "outputs": [
    {
     "name": "stdout",
     "output_type": "stream",
     "text": [
      "{'K': np.float64(0.19351478738639477)}\n"
     ]
    }
   ],
   "execution_count": 48
  },
  {
   "metadata": {},
   "cell_type": "code",
   "outputs": [],
   "execution_count": null,
   "source": [
    "best_predictive_feature = {}\n",
    "max_key = max(feature_performance, key=feature_performance.get)\n",
    "best_predictive_feature[max_key] = feature_performance[max_key]\n",
    "print(best_predictive_feature)"
   ],
   "id": "95e985a53b30d71b"
  }
 ],
 "metadata": {
  "kernelspec": {
   "display_name": "Python 3",
   "language": "python",
   "name": "python3"
  },
  "language_info": {
   "codemirror_mode": {
    "name": "ipython",
    "version": 2
   },
   "file_extension": ".py",
   "mimetype": "text/x-python",
   "name": "python",
   "nbconvert_exporter": "python",
   "pygments_lexer": "ipython2",
   "version": "2.7.6"
  }
 },
 "nbformat": 4,
 "nbformat_minor": 5
}
